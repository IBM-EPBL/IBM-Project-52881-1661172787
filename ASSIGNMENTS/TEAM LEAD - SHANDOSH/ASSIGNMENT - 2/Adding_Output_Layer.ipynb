{
  "nbformat": 4,
  "nbformat_minor": 0,
  "metadata": {
    "colab": {
      "provenance": []
    },
    "kernelspec": {
      "name": "python3",
      "display_name": "Python 3"
    },
    "language_info": {
      "name": "python"
    }
  },
  "cells": [
    {
      "cell_type": "code",
      "execution_count": null,
      "metadata": {
        "id": "h1Pm0VJ4rhUc"
      },
      "outputs": [],
      "source": [
        "prediction = Dense(3, activation='softmax')(x)"
      ]
    },
    {
      "cell_type": "markdown",
      "source": [
        "3 indicates no of classes, softmax is the activation function we use for categorical output\n",
        "\n",
        "\n",
        "\n",
        "Adding fully connected layer\n",
        "\n",
        "\n",
        "\n",
        "\n",
        "Note: The above dense layer code will be used for two models, because in both the models, the dataset has 3 labels, so we can use softmax and units as 3\n",
        "\n"
      ],
      "metadata": {
        "id": "lLR_sf0GrmVp"
      }
    }
  ]
}