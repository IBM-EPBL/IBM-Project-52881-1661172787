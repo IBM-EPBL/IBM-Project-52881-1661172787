{
  "nbformat": 4,
  "nbformat_minor": 0,
  "metadata": {
    "colab": {
      "provenance": []
    },
    "kernelspec": {
      "name": "python3",
      "display_name": "Python 3"
    },
    "language_info": {
      "name": "python"
    }
  },
  "cells": [
    {
      "cell_type": "code",
      "execution_count": null,
      "metadata": {
        "id": "P0gabYSpp3gy"
      },
      "outputs": [],
      "source": [
        "training set = train_datagen.flow_from_directory(trainPath,\n",
        "                                                 target_size = (224, 224),\n",
        "                                                 batch_size = 10,\n",
        "                                                 class_mode = 'categorical')\n",
        "test_set = test_datagen. flow_from_directory (testPath,\n",
        "                                              target_size = (224, 224),\n",
        "                                              batch_size = 10,\n",
        "                                              class_mode = 'categorical')"
      ]
    },
    {
      "cell_type": "code",
      "source": [
        "training set = train_datagen.flow_from_directory(trainPath,\n",
        "                                                 target_size = (224, 224),\n",
        "                                                 batch_size = 10,\n",
        "                                                 class_mode = 'categorical')\n",
        "test_set = test_datagen. flow_from_directory (testPath,\n",
        "                                              target_size = (224, 224),\n",
        "                                              batch_size = 10,\n",
        "                                              class_mode = 'categorical')\n"
      ],
      "metadata": {
        "id": "0KtE7KzZqCpm"
      },
      "execution_count": null,
      "outputs": []
    }
  ]
}