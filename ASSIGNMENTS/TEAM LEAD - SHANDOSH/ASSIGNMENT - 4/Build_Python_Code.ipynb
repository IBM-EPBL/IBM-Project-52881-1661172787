{
  "nbformat": 4,
  "nbformat_minor": 0,
  "metadata": {
    "colab": {
      "provenance": []
    },
    "kernelspec": {
      "name": "python3",
      "display_name": "Python 3"
    },
    "language_info": {
      "name": "python"
    }
  },
  "cells": [
    {
      "cell_type": "markdown",
      "source": [
        "IMPORTING LIBRARIES"
      ],
      "metadata": {
        "id": "mTZ0KPEkvwcs"
      }
    },
    {
      "cell_type": "code",
      "execution_count": null,
      "metadata": {
        "id": "H2lHKRnftOVq"
      },
      "outputs": [],
      "source": [
        "import re\n",
        "import numpy as np\n",
        "import os\n",
        "from flask import Flask, app, request, render_template\n",
        "from tensorflow.keras import models\n",
        "from tensorflow.keras.models import load_model\n",
        "from tensorflow.keras.preprocessing import image\n",
        "from tensorflow.python.ops.gen array ops import concat\n",
        "from tensorflow.keras.applications.inception_v3 import preprocess_input\n",
        "import requests\n",
        "from flask import Flask, request, render_template, redirect, url_for\n",
        "#Loading the model\n",
        "from cloudant.client import Cloudant"
      ]
    },
    {
      "cell_type": "markdown",
      "source": [
        "Creating our flask application and loading our model by using load_model method"
      ],
      "metadata": {
        "id": "A-EeBeGiv1Hn"
      }
    },
    {
      "cell_type": "code",
      "execution_count": null,
      "metadata": {
        "id": "qzaxHNe1ubU_"
      },
      "outputs": [],
      "source": [
        "model1 = load_model('level.h5')\n",
        "model2 = load_model('body.h5')\n"
      ]
    },
    {
      "cell_type": "code",
      "source": [
        "app=Flask (_name_)\n",
        "#default home page or route\n",
        "@app.route('/') \n",
        "def index():\n",
        "  return render_template('index.html')"
      ],
      "metadata": {
        "id": "7_acEthAu1ay"
      },
      "execution_count": null,
      "outputs": []
    },
    {
      "cell_type": "markdown",
      "source": [
        "Default home page\n",
        "\n"
      ],
      "metadata": {
        "id": "qxC5AdVUv5qQ"
      }
    },
    {
      "cell_type": "code",
      "source": [
        "@app.route('/index.html')\n",
        "def home():\n",
        "  return render_template(\"index.html\")"
      ],
      "metadata": {
        "id": "cSoAnUl6v_-F"
      },
      "execution_count": null,
      "outputs": []
    },
    {
      "cell_type": "markdown",
      "source": [
        "Configure the registration page"
      ],
      "metadata": {
        "id": "v9FSVHcwwQUa"
      }
    },
    {
      "cell_type": "code",
      "source": [
        "#registration page\n",
        "@app.route('/register')\n",
        "def register():\n",
        "  return render_template( 'register.html')\n",
        "  "
      ],
      "metadata": {
        "id": "xb9vINZFwSkS"
      },
      "execution_count": null,
      "outputs": []
    },
    {
      "cell_type": "code",
      "source": [
        "#registration page\n",
        "@app.route('/register')\n",
        "def register():\n",
        "  return render_template( 'register.html')\n",
        "@app.route('/afterreg', methods=[ 'POST'])\n",
        "def afterreg():\n",
        "  x = [x for x in request. form.values()]\n",
        "  print(x)\n",
        "  data = {\n",
        "      '_id': x[1], # Setting _id is optional\n",
        "      'name': x[0],\n",
        "      'psw':x[2]\n",
        "  }\n",
        "  print(data)\n",
        "  query = {'_id': {'$eq': data['_id']}}\n",
        "  docs = my_database.get_query_result(query),\n",
        "  print(docs)\n",
        "  print(len(docs.all()))\n",
        "  if(len (docs.all()==0):\n",
        "    url = my_database.create_document(data)\n",
        "    #response = requests.get(url)\n",
        "    return render_template( 'register.html', pred=\"Registration Successful, please Login using your details\");\n",
        "  else:\n",
        "    return render_template('register.html', pred=\"You are already a member, please login using your details\");"
      ],
      "metadata": {
        "id": "n1IQjzADwigU"
      },
      "execution_count": null,
      "outputs": []
    },
    {
      "cell_type": "markdown",
      "source": [
        "Configure the login page \n",
        "\n"
      ],
      "metadata": {
        "id": "5O81LPqEyA-K"
      }
    },
    {
      "cell_type": "code",
      "source": [
        "#login page\n",
        "@app.route('/Login')\n",
        "def login():\n",
        "  return render_template(\"Login.html')\n",
        "@app.route('/afterlogin', methods=['POST'])\n",
        "def afterlogin():\n",
        "  user = request.form['_id']\n",
        "  passw = request.form[ 'psw']\n",
        "  print(user, passw)\n",
        "  query = {'_id': {'$eq': user}}\n",
        "  docs = my_database.get_query_result(query)\n",
        "  print(docs)\n",
        "  print(len(docs.all())\n",
        "  if(len(docs.all()==0):\n",
        "    return render_template('Login.html', pred=\"The username is not found.\")\n",
        "  else:\n",
        "    if((user==docs[0][0][' id') and passw==docs[@][ 'psw']);\n",
        "                         return redirect(url_for('prediction'))\n",
        "    else:\n",
        "      print('Invalid User')                    \n"
      ],
      "metadata": {
        "id": "ZvoKgoN8xiDH"
      },
      "execution_count": null,
      "outputs": []
    },
    {
      "cell_type": "markdown",
      "source": [
        "For logout from web application"
      ],
      "metadata": {
        "id": "vWfAF-1BzRoa"
      }
    },
    {
      "cell_type": "code",
      "source": [
        "@app.route('/logout')\n",
        "def logout():\n",
        "  return render template ('logout.html')"
      ],
      "metadata": {
        "id": "21I3qZfLzShi"
      },
      "execution_count": null,
      "outputs": []
    },
    {
      "cell_type": "markdown",
      "source": [
        "Routing to the html Page"
      ],
      "metadata": {
        "id": "NKNXIJtFzgIF"
      }
    },
    {
      "cell_type": "code",
      "source": [
        "@app.route('/prediction')\n",
        "def prediction():\n",
        "  return render_template('prediction.html')\n"
      ],
      "metadata": {
        "id": "rc0zo392zgsV"
      },
      "execution_count": null,
      "outputs": []
    },
    {
      "cell_type": "markdown",
      "source": [
        "Showcasing prediction on UI:"
      ],
      "metadata": {
        "id": "WOY6swYoz8cQ"
      }
    },
    {
      "cell_type": "code",
      "source": [
        "@app.route('/result',methods=[\"GET\", \"POST\"])\n",
        "def res():\n",
        "  if request.method==\"POST\":\n",
        "    f=request.files['image'] basepath=os.path.dirname(_file_) #getting the current path i.e where app.py is present\n",
        "    #print(\"current path\", basepath)\n",
        "    filepath=os.path.join(basepath, 'uploads',f.filename) #from anywhere in the system we can give image E\n",
        "    #print(\"upload folder is\", filepath)\n",
        "    f.save(filepath)\n",
        "\n",
        "    img=image. load_img(filepath, target_size=(256,256)\n",
        "    x=image. img_to_array(img)#img to array\n",
        "    x=np.expand_dims (x, axis=)#used for adding one more dimension \n",
        "    #print(x)\n",
        "    img_data=preprocess_input(x)\n",
        "    prediction1=np.argmax (model1.predict(img data))\n",
        "    prediction2=np.argmax(model2.predict(img_data))\n",
        "\n",
        "\n",
        "    #prediction=model.predict(x)#instead of predict_classes(x) we can use predict() ---->predict_classes\n",
        "    #print(\"prediction is \", prediction)\n",
        "    index1=['front', 'rear', 'side'] \n",
        "    index2=[ 'minor', 'moderate', 'severe'] \n",
        "    #result = str(index(output[@]])\n",
        "    result2 = index1[prediction1]\n",
        "    result2 = index2[prediction2]"
      ],
      "metadata": {
        "id": "Xa4pPOoOz9Va"
      },
      "execution_count": null,
      "outputs": []
    },
    {
      "cell_type": "markdown",
      "source": [
        " Target size need to change to 256,256 – Because vgg16 takes the input format in that size"
      ],
      "metadata": {
        "id": "wTgqbOfd1cMQ"
      }
    },
    {
      "cell_type": "code",
      "source": [
        "#result = str(index[output[@]])\n",
        "result1 = index1[prediction1] \n",
        "result2 = index2[prediction2]\n",
        "if(resulti == \"front\" and result2 == \"minor\"):\n",
        "  value = \"3000 - 5000 INR\"\n",
        "elif(result1 == \"front\" and result2 == \"moderate\"):\n",
        "  value = \"6000 - 8000 INR\"\n",
        "elif(result1 == \"front\" and result2 == \"severe\"):\n",
        "  value = \"9000 - 11000 INR\"\n",
        "elif(resulti -- \"rear\" and result2 == \"minor\"):\n",
        "  value=\"4800 - 6000 INR\" \n",
        "elif(resulti == \"rear\" and result2 == \"moderate\"):\n",
        "  value = \"7080 - 9000 INR\"\n",
        "elif(resulti -- \"rear\" and result2 == \"severe\"):\n",
        "  value = \"11000 - 13000 INR\"\n",
        "elif(resulti == \"side\" and result2 == \"minor\"):\n",
        "  value = \"6000 - 8000 INR\"\n",
        "elif(resulti == \"side\" and result2 == \"moderate\"):\n",
        "  value = \"9000 - 11000 INR\"\n",
        "elif(resulti == \"side\" and result2 == \"severe\"):\n",
        "  value = \"12000 - 15000 INR\"\n",
        "else:\n",
        "  value = \"16000 - 50000 INR\"\n",
        "return render_template( 'prediction.html',prediction=value)\n",
        "\n",
        "\n",
        "\n",
        "\n",
        "*** Running our application ***\n",
        "if _name__ == \"_main \":\n",
        "  app.run()\n",
        "\n"
      ],
      "metadata": {
        "id": "t_WkPhb01dm8"
      },
      "execution_count": null,
      "outputs": []
    },
    {
      "cell_type": "markdown",
      "source": [
        "This is used to run the application in a localhost. \n"
      ],
      "metadata": {
        "id": "t7oeaCN74Azn"
      }
    },
    {
      "cell_type": "code",
      "source": [
        "***Running our application***\n",
        "if __name__ == \"_main_\":\n",
        "  app.run(debug = False, port = 8080)"
      ],
      "metadata": {
        "id": "uZGVTGCO4Br2"
      },
      "execution_count": null,
      "outputs": []
    }
  ]
}