{
  "nbformat": 4,
  "nbformat_minor": 0,
  "metadata": {
    "colab": {
      "provenance": []
    },
    "kernelspec": {
      "name": "python3",
      "display_name": "Python 3"
    },
    "language_info": {
      "name": "python"
    }
  },
  "cells": [
    {
      "cell_type": "code",
      "execution_count": null,
      "metadata": {
        "id": "RgRz4OFTsQjn"
      },
      "outputs": [],
      "source": [
        "#save the model \n",
        "model.save('body.h5')"
      ]
    },
    {
      "cell_type": "code",
      "source": [
        "#save the model\n",
        "model.save('level.h5')"
      ],
      "metadata": {
        "id": "Y4yT54NUsZbe"
      },
      "execution_count": null,
      "outputs": []
    },
    {
      "cell_type": "markdown",
      "source": [
        "\n",
        "Note: We are dealing with two models, so we need to save two models"
      ],
      "metadata": {
        "id": "VKFHVds8snaw"
      }
    }
  ]
}