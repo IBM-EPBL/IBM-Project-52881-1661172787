{
  "nbformat": 4,
  "nbformat_minor": 0,
  "metadata": {
    "colab": {
      "provenance": []
    },
    "kernelspec": {
      "name": "python3",
      "display_name": "Python 3"
    },
    "language_info": {
      "name": "python"
    }
  },
  "cells": [
    {
      "cell_type": "code",
      "execution_count": null,
      "metadata": {
        "id": "GkkTVjm5wcoA"
      },
      "outputs": [],
      "source": [
        "#setting parameter for image data augmentation to the training data.\n",
        "train_datagen = ImageDataGenerator (rescale=1./255,\n",
        "                                    shear_range=0.1,\n",
        "                                    zoom_range=0.1,\n",
        "                                    horizontal_flip=True)"
      ]
    },
    {
      "cell_type": "code",
      "source": [
        "#image data augmentation to the testing data.\n",
        "val_datagen - ImageDataGenerator (rescale = 1./255)"
      ],
      "metadata": {
        "id": "lYIemEd0xIdc"
      },
      "execution_count": null,
      "outputs": []
    }
  ]
}