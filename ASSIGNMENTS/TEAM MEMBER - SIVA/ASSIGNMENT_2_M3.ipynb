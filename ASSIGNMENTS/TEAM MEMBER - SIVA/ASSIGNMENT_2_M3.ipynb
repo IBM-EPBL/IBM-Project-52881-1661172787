{
  "nbformat": 4,
  "nbformat_minor": 0,
  "metadata": {
    "colab": {
      "provenance": []
    },
    "kernelspec": {
      "name": "python3",
      "display_name": "Python 3"
    },
    "language_info": {
      "name": "python"
    }
  },
  "cells": [
    {
      "cell_type": "code",
      "execution_count": null,
      "metadata": {
        "id": "N5tBIDiqKoDn"
      },
      "outputs": [],
      "source": []
    },
    {
      "cell_type": "markdown",
      "source": [
        "1.Download the dataset: Dataset\n",
        "\n",
        "2.Load the dataset"
      ],
      "metadata": {
        "id": "MwTD8IE9KsoX"
      }
    },
    {
      "cell_type": "code",
      "source": [
        "import numpy as np\n",
        "import pandas as pd\n",
        "df = pd.read_csv(\"Churn_Modelling.csv\")"
      ],
      "metadata": {
        "id": "81XYEfmcK0FZ"
      },
      "execution_count": null,
      "outputs": []
    },
    {
      "cell_type": "markdown",
      "source": [
        "3.Perform Below Visualizations.\n",
        "Univariate Analysis"
      ],
      "metadata": {
        "id": "jKSuD2g1K52e"
      }
    },
    {
      "cell_type": "code",
      "source": [
        "import seaborn as sns\n",
        "sns.histplot(df.CreditScore,kde=True)"
      ],
      "metadata": {
        "id": "_5phkiX1K7Dk"
      },
      "execution_count": null,
      "outputs": []
    },
    {
      "cell_type": "markdown",
      "source": [
        "Bi - Variate Analysis"
      ],
      "metadata": {
        "id": "1tsLOGtGLIHQ"
      }
    },
    {
      "cell_type": "code",
      "source": [
        "import seaborn as sns\n",
        "import matplotlib.pyplot as plt\n",
        "sns.scatterplot(df.CreditScore,df.EstimatedSalary)\n",
        "plt.ylim(0,15000)"
      ],
      "metadata": {
        "id": "j1LH8DlYLJE-"
      },
      "execution_count": null,
      "outputs": []
    },
    {
      "cell_type": "markdown",
      "source": [
        "Multi - Variate Analysis"
      ],
      "metadata": {
        "id": "5pQ6fdeOLOLx"
      }
    },
    {
      "cell_type": "code",
      "source": [
        "import seaborn as sns\n",
        "df=pd.read_csv(\"Churn_Modelling.csv\")\n",
        "sns.pairplot(df)"
      ],
      "metadata": {
        "id": "QX_HhhasLO2N"
      },
      "execution_count": null,
      "outputs": []
    },
    {
      "cell_type": "markdown",
      "source": [
        "4.Perform descriptive statistics on the dataset."
      ],
      "metadata": {
        "id": "VjX6HvaULUJ5"
      }
    },
    {
      "cell_type": "code",
      "source": [
        "df=pd.read_csv(\"Churn_Modelling.csv\")\n",
        "df.describe(include='all')\n"
      ],
      "metadata": {
        "id": "v98NgbOFLUt4"
      },
      "execution_count": null,
      "outputs": []
    },
    {
      "cell_type": "code",
      "source": [
        "df.count()"
      ],
      "metadata": {
        "id": "hRk37S6UKt5S"
      },
      "execution_count": null,
      "outputs": []
    },
    {
      "cell_type": "code",
      "source": [
        "df['Geography'].value_counts()"
      ],
      "metadata": {
        "id": "prL9cnE1Lb-I"
      },
      "execution_count": null,
      "outputs": []
    },
    {
      "cell_type": "markdown",
      "source": [
        "5.Handle the Missing values."
      ],
      "metadata": {
        "id": "CNCr7yFyLd74"
      }
    },
    {
      "cell_type": "code",
      "source": [
        "from ast import increment_lineno\n",
        "import pandas as pd\n",
        "import numpy as np\n",
        "import seaborn as sns\n",
        "import matplotlib.pyplot as plt\n",
        "%matplotlib inline\n",
        "sns.set(color_codes=True)\n",
        "df=pd.read_csv(\"Churn_Modelling.csv\")\n",
        "df.head()"
      ],
      "metadata": {
        "id": "EJr0s5R-Lf5Y"
      },
      "execution_count": null,
      "outputs": []
    },
    {
      "cell_type": "code",
      "source": [
        "df.isnull().sum()"
      ],
      "metadata": {
        "id": "vXKYWF0RLk1S"
      },
      "execution_count": null,
      "outputs": []
    },
    {
      "cell_type": "markdown",
      "source": [
        "6.Find the outliers and replace the outliers"
      ],
      "metadata": {
        "id": "BV_vLhVHLnWO"
      }
    },
    {
      "cell_type": "code",
      "source": [
        "import pandas as pd\n",
        "import matplotlib\n",
        "from matplotlib import pyplot as pyplot\n",
        "%matplotlib inline\n",
        "matplotlib.rcParams['figure.figsize']=(10,4)\n",
        "df=pd.read_csv(\"Churn_Modelling.csv\")\n",
        "df.sample(5)"
      ],
      "metadata": {
        "id": "5WT555hVLoYC"
      },
      "execution_count": null,
      "outputs": []
    },
    {
      "cell_type": "code",
      "source": [
        "sns.boxplot(x='CreditScore', data=df)"
      ],
      "metadata": {
        "id": "jjCoXQGVLuyE"
      },
      "execution_count": null,
      "outputs": []
    },
    {
      "cell_type": "markdown",
      "source": [
        "7.Check for Categorical columns and perform encoding."
      ],
      "metadata": {
        "id": "uJEexvAXLy8_"
      }
    },
    {
      "cell_type": "code",
      "source": [
        "df=pd.read_csv(\"Churn_Modelling.csv\")\n",
        "df.columns\n",
        "import pandas as pd\n",
        "import numpy as np\n",
        "headers=['RowNumber','CustomerID','Surname','CreditScore','Geography',\n",
        " 'Gender','Age','Tenure','Balance','NumofProducts','HasCard'\n",
        " 'IsActiveMember','EstimatedSalary','Exited']\n",
        "import seaborn as sns\n",
        "df.head()"
      ],
      "metadata": {
        "id": "stIPEpwALzaP"
      },
      "execution_count": null,
      "outputs": []
    },
    {
      "cell_type": "markdown",
      "source": [
        "8.Split the data into dependent and independent variables."
      ],
      "metadata": {
        "id": "UQ60FyfUL2tt"
      }
    },
    {
      "cell_type": "code",
      "source": [
        "#Splitting the Dataset into the Independent Feature Matrix:\n",
        "X = df.iloc[:, :-1].values\n",
        "print(X)\n"
      ],
      "metadata": {
        "id": "k9d81hsLL5AM"
      },
      "execution_count": null,
      "outputs": []
    },
    {
      "cell_type": "code",
      "source": [
        "#Extracting the Dataset to Get the Dependent Vector\n",
        "Y = df.iloc[:, -1].values\n",
        "print(Y)"
      ],
      "metadata": {
        "id": "QCzWgdQ0L_Iv"
      },
      "execution_count": null,
      "outputs": []
    },
    {
      "cell_type": "markdown",
      "source": [
        "9.Scale the independent variables"
      ],
      "metadata": {
        "id": "m2lMJFDEMBAk"
      }
    },
    {
      "cell_type": "code",
      "source": [
        "from sklearn.preprocessing import StandardScaler"
      ],
      "metadata": {
        "id": "GKG8CWOqMBoT"
      },
      "execution_count": null,
      "outputs": []
    },
    {
      "cell_type": "code",
      "source": [
        "object= StandardScaler()\n",
        " \n",
        "# standardization \n",
        "scale=object.fit_transform(x) \n",
        "print(scale)"
      ],
      "metadata": {
        "id": "T4fxpVxKMDyY"
      },
      "execution_count": null,
      "outputs": []
    },
    {
      "cell_type": "markdown",
      "source": [
        "10.Split the data into training and testing"
      ],
      "metadata": {
        "id": "O7LxhTxMMHDA"
      }
    },
    {
      "cell_type": "code",
      "source": [
        "from sklearn.model_selection import train_test_split\n",
        "\n",
        "# split the dataset\n",
        "X_train, X_test, Y_train, Y_test = train_test_split(X, Y, test_size=0.05, random_state=0)"
      ],
      "metadata": {
        "id": "ddYZWI4GMHon"
      },
      "execution_count": null,
      "outputs": []
    },
    {
      "cell_type": "code",
      "source": [
        "X_train"
      ],
      "metadata": {
        "id": "tm4XU9CgMKmm"
      },
      "execution_count": null,
      "outputs": []
    },
    {
      "cell_type": "code",
      "source": [
        "Y_train"
      ],
      "metadata": {
        "id": "gFqgJKCTMOPD"
      },
      "execution_count": null,
      "outputs": []
    },
    {
      "cell_type": "code",
      "source": [
        "X_test"
      ],
      "metadata": {
        "id": "GCwftO5MMQrz"
      },
      "execution_count": null,
      "outputs": []
    },
    {
      "cell_type": "code",
      "source": [
        "Y_test"
      ],
      "metadata": {
        "id": "wYPYVEs8MTHi"
      },
      "execution_count": null,
      "outputs": []
    }
  ]
}