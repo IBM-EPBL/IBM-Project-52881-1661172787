{
  "nbformat": 4,
  "nbformat_minor": 0,
  "metadata": {
    "colab": {
      "provenance": []
    },
    "kernelspec": {
      "name": "python3",
      "display_name": "Python 3"
    },
    "language_info": {
      "name": "python"
    }
  },
  "cells": [
    {
      "cell_type": "code",
      "execution_count": 1,
      "metadata": {
        "id": "k6xmGd0VkZj4"
      },
      "outputs": [],
      "source": [
        "#import image datagenerator Library\n",
        "from tensorflow.keras.preprocessing.image import ImageDataGenerator"
      ]
    }
  ]
}