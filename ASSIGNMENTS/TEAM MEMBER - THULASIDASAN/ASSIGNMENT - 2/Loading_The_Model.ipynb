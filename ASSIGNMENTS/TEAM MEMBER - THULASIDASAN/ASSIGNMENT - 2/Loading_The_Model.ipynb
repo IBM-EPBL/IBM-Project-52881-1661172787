{
  "nbformat": 4,
  "nbformat_minor": 0,
  "metadata": {
    "colab": {
      "provenance": []
    },
    "kernelspec": {
      "name": "python3",
      "display_name": "Python 3"
    },
    "language_info": {
      "name": "python"
    }
  },
  "cells": [
    {
      "cell_type": "code",
      "execution_count": null,
      "metadata": {
        "id": "alkhQSfGrLDM"
      },
      "outputs": [],
      "source": [
        "# adding preprocessing Layers to the front of vgg\n",
        "Vgg = VGG16 (input_shape=imageSize + [3], weights='imagenet', include_top=False)\n",
        "Downloading data from https://storage.googleapis.com/tensorflow/keras-applications/vgg16/vgg16_weights_tf_dim_ordering_tf_kerne 1s_notop.h5\n",
        "58892288/58889256 (==============================] - Os Ous/step \n",
        "58900480/58889256 (==============================] - Os Qus/step"
      ]
    }
  ]
}