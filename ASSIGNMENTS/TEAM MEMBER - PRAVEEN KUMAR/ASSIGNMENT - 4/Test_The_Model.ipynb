{
  "nbformat": 4,
  "nbformat_minor": 0,
  "metadata": {
    "colab": {
      "provenance": []
    },
    "kernelspec": {
      "name": "python3",
      "display_name": "Python 3"
    },
    "language_info": {
      "name": "python"
    }
  },
  "cells": [
    {
      "cell_type": "code",
      "execution_count": 1,
      "metadata": {
        "id": "Km3sge9HeNbx"
      },
      "outputs": [],
      "source": [
        "from tensorflow.keras.models import load_model\n",
        "import cv2\n",
        "from skimage.transform import resize\n"
      ]
    },
    {
      "cell_type": "code",
      "source": [
        "model = load_model('level.hs')"
      ],
      "metadata": {
        "id": "e7Iy2LESfEw4"
      },
      "execution_count": null,
      "outputs": []
    },
    {
      "cell_type": "code",
      "execution_count": null,
      "metadata": {
        "id": "O3mreak4f6g3"
      },
      "outputs": [],
      "source": [
        "from tensorflow.keras.models import load_model\n",
        "import cv2\n",
        "from skimage.transform import resize\n"
      ]
    },
    {
      "cell_type": "code",
      "source": [
        "model = load_model('bodyl. h5')\n",
        "\n"
      ],
      "metadata": {
        "id": "00Kh_L-Jf9O7"
      },
      "execution_count": null,
      "outputs": []
    },
    {
      "cell_type": "code",
      "source": [
        "# creating a function, which is used to predict, so need some preprocessing\n",
        "def detect(frame):\n",
        "  img = cv2.resize(frame, (64,64)) #resizing the image to model trained image size\n",
        "  img = cv2.cvtColor(img, cv2.COLOR_BGR2RGB) # uploaded image is in the form of BGR, SO convert to RGB\n",
        "  # scaling need to be done \n",
        "  if(np.max(img)>1):\n",
        "    img = img/255.0 \n",
        "  img = np.array([img]) #then to array fpormat\n",
        "  prediction = model.predict(img)\n",
        "  label = [\"front\",\"rear\",\"side\"]\n",
        "  preds = label[np.argmax(prediction)]\n",
        "  return preds"
      ],
      "metadata": {
        "id": "5TaRUMOmgRbK"
      },
      "execution_count": 5,
      "outputs": []
    },
    {
      "cell_type": "code",
      "source": [
        "# creating a function, which is used to predict,so need some preprocessing\n",
        "def detect(frame) :\n",
        "  img = cv2.resize(frame, (64,64)) #resizing the image to model trained image size \n",
        "  img = cv2.cvtColor(img, cv2.COLOR_BGR2RGB) # uploaded image is in the form of BGR, SO convert to RGB \n",
        "  # scaling need to be done\n",
        "  if(np.max(img)>1):\n",
        "    img = img/255.0\n",
        "  img = np.array([img]) #then to array fpormat\n",
        "  prediction = model.predict(img)\n",
        "  print(prediction) label = [\"minor\", \"moderate\", \"severe\"] preds = label[np.argmax(prediction)]\n",
        "  return preds"
      ],
      "metadata": {
        "id": "VgeW2p8vhOc-"
      },
      "execution_count": null,
      "outputs": []
    },
    {
      "cell_type": "code",
      "source": [
        "import numpy as np\n",
        "data = \"F:\\\\Transfer Learning\\\\car damage detection\\\\body\\\\training\\\\00-front|\\0005.JPEG\"\n",
        "image = cv2.imread(data)\n",
        "print(detect(image))\n",
        "[[0.4213749 0.29623184 0.28239328]]\n",
        "front"
      ],
      "metadata": {
        "id": "g16Ryh68ij_g"
      },
      "execution_count": null,
      "outputs": []
    },
    {
      "cell_type": "code",
      "source": [
        "import numpy as np\n",
        "data = \"F:\\\\Transfer Learning\\\\car damage detection\\\\level \\validation\\\\01-minor\\\\0010.JPEG\"\n",
        "image = cv2.imread(data)\n",
        "print(detect(image))\n",
        "[[ 0.4213749 0.29623184 0.28239328]]\n",
        "minor"
      ],
      "metadata": {
        "id": "RHUxKObfjSGU"
      },
      "execution_count": null,
      "outputs": []
    }
  ]
}